{
  "nbformat": 4,
  "nbformat_minor": 0,
  "metadata": {
    "colab": {
      "provenance": [],
      "authorship_tag": "ABX9TyPOwTwl2oEKeE7LP7kh3Et9",
      "include_colab_link": true
    },
    "kernelspec": {
      "name": "python3",
      "display_name": "Python 3"
    },
    "language_info": {
      "name": "python"
    }
  },
  "cells": [
    {
      "cell_type": "markdown",
      "metadata": {
        "id": "view-in-github",
        "colab_type": "text"
      },
      "source": [
        "<a href=\"https://colab.research.google.com/github/nishachourasia/nisha/blob/main/CALCULATOR.ipynb\" target=\"_parent\"><img src=\"https://colab.research.google.com/assets/colab-badge.svg\" alt=\"Open In Colab\"/></a>"
      ]
    },
    {
      "cell_type": "code",
      "execution_count": null,
      "metadata": {
        "colab": {
          "base_uri": "https://localhost:8080/"
        },
        "id": "g9NUVU1i2Rkj",
        "outputId": "71c433ce-3935-4973-f9e2-441a5bb96ea9"
      },
      "outputs": [
        {
          "output_type": "stream",
          "name": "stdout",
          "text": [
            "~~~~~~Mini Calculator~~~~~~\n",
            "enter your first number: 34\n",
            "enter your second number:34\n",
            "press 1 for addition \n",
            "press 2 for subtraction \n",
            "press 3 for multiplication \n",
            "press 4 for division\n",
            "enter your choice from 1-4: 5\n",
            "invalid input\n"
          ]
        }
      ],
      "source": [
        "print (\"~~~~~~Mini Calculator~~~~~~\")   # 1step - to give heading\n",
        "\n",
        "num1 = int(input(\"enter your first number: \")) # 2step - 1st number user input\n",
        "num2 = int (input(\"enter your second number:\"))         # 2nd number user input\n",
        "\n",
        "print (\"press 1 for addition \\npress 2 for subtraction \\npress 3 for multiplication \\npress 4 for division\") #3step- jese hi user  input dega,ek list print hogi\n",
        "\n",
        "choice= int(input(\"enter your choice from 1-4: \")) # 4 step- list print hone k bad user apni choice fill krenga 1-4 mai se )\n",
        "\n",
        "if choice == 1:\n",
        "  print(\"The addition of given two number is\",num1+num2)\n",
        "elif choice ==2:\n",
        "  print (\"The  subtraction of given two number is\",num1-num2)\n",
        "elif choice ==3:\n",
        "  print(\"The multiplication of given two number is\",num1*num2)\n",
        "elif choice ==4:\n",
        "  print(\"The division of given two number is\",num1/num2)\n",
        "else:\n",
        "  print(\"invalid input\")"
      ]
    }
  ]
}