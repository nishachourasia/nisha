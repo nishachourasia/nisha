{
  "cells": [
    {
      "cell_type": "markdown",
      "metadata": {
        "id": "view-in-github",
        "colab_type": "text"
      },
      "source": [
        "<a href=\"https://colab.research.google.com/github/nishachourasia/nisha/blob/main/PASSWORD_GENERATOR2ipynb.ipynb\" target=\"_parent\"><img src=\"https://colab.research.google.com/assets/colab-badge.svg\" alt=\"Open In Colab\"/></a>"
      ]
    },
    {
      "cell_type": "code",
      "execution_count": 1,
      "metadata": {
        "id": "BQ3pLDbx-3mh"
      },
      "outputs": [],
      "source": [
        "import random"
      ]
    },
    {
      "cell_type": "code",
      "execution_count": null,
      "metadata": {
        "id": "OmXEJ8Vw4xV5"
      },
      "outputs": [],
      "source": [
        "\n",
        "characters = \"abcdefghijklmnopqrstuvwxyzABCDEFGHIJKLMNOPQRSTUVWXYZ0123456789!@#$%^&*()_\"\n",
        "\n",
        "while True:\n",
        "  pass_len = int(input(\"enter the lenght of req password:\"))\n",
        "  pass_count = int(input(\"enter the number of req passwords:\"))\n",
        "\n",
        "  for i in range (0,pass_count):\n",
        "      password = \" \"\n",
        "      for j in range (0,pass_len):\n",
        "          pass_Char = random.choice(characters)\n",
        "          password = password+pass_Char\n",
        "      print(\"The generated password is\",password)\n",
        "  repeat = input (\"do you want to generate more passwords?\")\n",
        "  if repeat == \"no\" or repeat == \"NO\":\n",
        "      break\n",
        "print (\"Thanku\")"
      ]
    }
  ],
  "metadata": {
    "colab": {
      "provenance": [],
      "authorship_tag": "ABX9TyOy0O1STbjanki9K3eWeufd",
      "include_colab_link": true
    },
    "kernelspec": {
      "display_name": "Python 3",
      "name": "python3"
    },
    "language_info": {
      "name": "python"
    }
  },
  "nbformat": 4,
  "nbformat_minor": 0
}