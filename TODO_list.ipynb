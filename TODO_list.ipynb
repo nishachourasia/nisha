{
  "nbformat": 4,
  "nbformat_minor": 0,
  "metadata": {
    "colab": {
      "provenance": [],
      "authorship_tag": "ABX9TyNyfjCTEW7qEn1qlSHx/Cfq",
      "include_colab_link": true
    },
    "kernelspec": {
      "name": "python3",
      "display_name": "Python 3"
    },
    "language_info": {
      "name": "python"
    }
  },
  "cells": [
    {
      "cell_type": "markdown",
      "metadata": {
        "id": "view-in-github",
        "colab_type": "text"
      },
      "source": [
        "<a href=\"https://colab.research.google.com/github/nishachourasia/nisha/blob/main/TODO_list.ipynb\" target=\"_parent\"><img src=\"https://colab.research.google.com/assets/colab-badge.svg\" alt=\"Open In Colab\"/></a>"
      ]
    },
    {
      "cell_type": "code",
      "execution_count": null,
      "metadata": {
        "colab": {
          "base_uri": "https://localhost:8080/"
        },
        "id": "dfF-dDq-vu_r",
        "outputId": "c152c68b-a158-441f-b4a5-29631449d887"
      },
      "outputs": [
        {
          "output_type": "stream",
          "name": "stdout",
          "text": [
            "\n",
            "Options:\n",
            "1. Display To-Do List\n",
            "2. Add Task\n",
            "3. Remove Task\n",
            "4. Quit\n",
            "Enter your choice: 2\n",
            "Enter the task: read\n",
            "Task 'read' added to the to-do list.\n",
            "\n",
            "Options:\n",
            "1. Display To-Do List\n",
            "2. Add Task\n",
            "3. Remove Task\n",
            "4. Quit\n",
            "Enter your choice: 1\n",
            "To-Do List:\n",
            "1. read\n",
            "\n",
            "Options:\n",
            "1. Display To-Do List\n",
            "2. Add Task\n",
            "3. Remove Task\n",
            "4. Quit\n",
            "Enter your choice: 3\n",
            "Enter the index of the task to remove: 1\n",
            "Task 'read' removed from the to-do list.\n",
            "\n",
            "Options:\n",
            "1. Display To-Do List\n",
            "2. Add Task\n",
            "3. Remove Task\n",
            "4. Quit\n"
          ]
        }
      ],
      "source": [
        "# Function to display the to-do list\n",
        "def display_todo_list(todo_list):\n",
        "    print(\"To-Do List:\")\n",
        "    for index, task in enumerate(todo_list, start=1):\n",
        "        print(f\"{index}. {task}\")\n",
        "\n",
        "# Function to add a task to the to-do list\n",
        "def add_task(todo_list, task):\n",
        "    todo_list.append(task)\n",
        "    print(f\"Task '{task}' added to the to-do list.\")\n",
        "\n",
        "# Function to remove a task from the to-do list\n",
        "def remove_task(todo_list, index):\n",
        "    if index >= 1 and index <= len(todo_list):\n",
        "        removed_task = todo_list.pop(index-1)\n",
        "        print(f\"Task '{removed_task}' removed from the to-do list.\")\n",
        "    else:\n",
        "        print(\"Invalid index. Please try again.\")\n",
        "\n",
        "# Main program loop\n",
        "todo_list = []\n",
        "\n",
        "while True:\n",
        "    print(\"\\nOptions:\")\n",
        "    print(\"1. Display To-Do List\")\n",
        "    print(\"2. Add Task\")\n",
        "    print(\"3. Remove Task\")\n",
        "    print(\"4. Quit\")\n",
        "\n",
        "    choice = input(\"Enter your choice: \")\n",
        "\n",
        "    if choice == '1':\n",
        "        display_todo_list(todo_list)\n",
        "    elif choice == '2':\n",
        "        task = input(\"Enter the task: \")\n",
        "        add_task(todo_list, task)\n",
        "    elif choice == '3':\n",
        "        index = int(input(\"Enter the index of the task to remove: \"))\n",
        "        remove_task(todo_list, index)\n",
        "    elif choice == '4':\n",
        "        break\n",
        "    else:\n",
        "        print(\"Invalid choice. Please try again.\")\n",
        ""
      ]
    }
  ]
}